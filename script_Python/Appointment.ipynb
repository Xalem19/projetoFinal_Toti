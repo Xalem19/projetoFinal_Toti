{
  "nbformat": 4,
  "nbformat_minor": 0,
  "metadata": {
    "colab": {
      "name": "Appointment_modificação",
      "provenance": [],
      "toc_visible": true,
      "include_colab_link": true
    },
    "kernelspec": {
      "name": "python3",
      "display_name": "Python 3"
    },
    "language_info": {
      "name": "python"
    }
  },
  "cells": [
    {
      "cell_type": "markdown",
      "metadata": {
        "id": "view-in-github",
        "colab_type": "text"
      },
      "source": [
        "<a href=\"https://colab.research.google.com/github/Xalem19/projetoFinal_Toti/blob/main/Appointment_modifica%C3%A7%C3%A3o.ipynb\" target=\"_parent\"><img src=\"https://colab.research.google.com/assets/colab-badge.svg\" alt=\"Open In Colab\"/></a>"
      ]
    },
    {
      "cell_type": "code",
      "source": [
        "# Importamos as bibliotecas pandas e numpy\n",
        "import pandas as pd\n",
        "import numpy as np\n",
        "\n",
        "# Importamos a tabela de Appointment num dataframe, pegamos o caminho do documento no ficheiro \n",
        "\n",
        "Appoint = pd.read_csv('/content/Appointment_python.csv')\n",
        "\n"
      ],
      "metadata": {
        "id": "nhQWREaV3d7E"
      },
      "execution_count": null,
      "outputs": []
    },
    {
      "cell_type": "code",
      "source": [
        "# Confirmamos as informações e o tipo de dado dentro de nossa tabela \n",
        "\n",
        "Appoint.info() "
      ],
      "metadata": {
        "id": "HShSVFvDc6U_",
        "colab": {
          "base_uri": "https://localhost:8080/"
        },
        "outputId": "4ed02148-12f1-4b94-ebb9-c2d43479efea"
      },
      "execution_count": null,
      "outputs": [
        {
          "output_type": "stream",
          "name": "stdout",
          "text": [
            "<class 'pandas.core.frame.DataFrame'>\n",
            "RangeIndex: 136 entries, 0 to 135\n",
            "Data columns (total 7 columns):\n",
            " #   Column           Non-Null Count  Dtype  \n",
            "---  ------           --------------  -----  \n",
            " 0   AppointmentID    136 non-null    int64  \n",
            " 1   Patient          136 non-null    int64  \n",
            " 2   PrepNurse        117 non-null    float64\n",
            " 3   Physician        136 non-null    int64  \n",
            " 4   Starto           136 non-null    object \n",
            " 5   Endo             136 non-null    object \n",
            " 6   ExaminationRoom  136 non-null    object \n",
            "dtypes: float64(1), int64(3), object(3)\n",
            "memory usage: 7.6+ KB\n"
          ]
        }
      ]
    },
    {
      "cell_type": "code",
      "source": [
        "# Percebemos que temos dados nulos na tabela PrepNurse e pelo mesmo o tipo de dado é float.\n",
        "# A coluna Starto e Endo estão como tipo de dato object. Essas colunas são do tipo DataTime.\n",
        "\n",
        "#Vamos observar as colunas com as 5 primeiras filas, como o seguinte código: \n",
        "Appoint.head()"
      ],
      "metadata": {
        "id": "uO_6UYd8dP9c",
        "colab": {
          "base_uri": "https://localhost:8080/",
          "height": 206
        },
        "outputId": "7ae663c0-8fb9-4ffc-ecb2-c807dbaa9b88"
      },
      "execution_count": null,
      "outputs": [
        {
          "output_type": "execute_result",
          "data": {
            "text/plain": [
              "   AppointmentID    Patient  PrepNurse  Physician               Starto  \\\n",
              "0           1313  100000034      103.0          2  2008-06-05 09:00:00   \n",
              "1           2517  100000013        NaN          3  2008-06-05 12:00:00   \n",
              "2           3241  100000013        NaN          3  2008-04-05 12:00:00   \n",
              "3           5689  100000013        NaN          3  2008-05-05 12:00:00   \n",
              "4          44321  100000010      102.0          1  2008-06-16 10:00:00   \n",
              "\n",
              "                  Endo ExaminationRoom  \n",
              "0  2008-06-05 10:00:00               C  \n",
              "1  2008-06-05 13:00:00               C  \n",
              "2  2008-04-05 13:00:00               C  \n",
              "3  2008-05-05 13:00:00               C  \n",
              "4  2008-06-16 11:00:00               B  "
            ],
            "text/html": [
              "\n",
              "  <div id=\"df-33fc4b4c-43f5-4651-958a-18a8f5ed69a4\">\n",
              "    <div class=\"colab-df-container\">\n",
              "      <div>\n",
              "<style scoped>\n",
              "    .dataframe tbody tr th:only-of-type {\n",
              "        vertical-align: middle;\n",
              "    }\n",
              "\n",
              "    .dataframe tbody tr th {\n",
              "        vertical-align: top;\n",
              "    }\n",
              "\n",
              "    .dataframe thead th {\n",
              "        text-align: right;\n",
              "    }\n",
              "</style>\n",
              "<table border=\"1\" class=\"dataframe\">\n",
              "  <thead>\n",
              "    <tr style=\"text-align: right;\">\n",
              "      <th></th>\n",
              "      <th>AppointmentID</th>\n",
              "      <th>Patient</th>\n",
              "      <th>PrepNurse</th>\n",
              "      <th>Physician</th>\n",
              "      <th>Starto</th>\n",
              "      <th>Endo</th>\n",
              "      <th>ExaminationRoom</th>\n",
              "    </tr>\n",
              "  </thead>\n",
              "  <tbody>\n",
              "    <tr>\n",
              "      <th>0</th>\n",
              "      <td>1313</td>\n",
              "      <td>100000034</td>\n",
              "      <td>103.0</td>\n",
              "      <td>2</td>\n",
              "      <td>2008-06-05 09:00:00</td>\n",
              "      <td>2008-06-05 10:00:00</td>\n",
              "      <td>C</td>\n",
              "    </tr>\n",
              "    <tr>\n",
              "      <th>1</th>\n",
              "      <td>2517</td>\n",
              "      <td>100000013</td>\n",
              "      <td>NaN</td>\n",
              "      <td>3</td>\n",
              "      <td>2008-06-05 12:00:00</td>\n",
              "      <td>2008-06-05 13:00:00</td>\n",
              "      <td>C</td>\n",
              "    </tr>\n",
              "    <tr>\n",
              "      <th>2</th>\n",
              "      <td>3241</td>\n",
              "      <td>100000013</td>\n",
              "      <td>NaN</td>\n",
              "      <td>3</td>\n",
              "      <td>2008-04-05 12:00:00</td>\n",
              "      <td>2008-04-05 13:00:00</td>\n",
              "      <td>C</td>\n",
              "    </tr>\n",
              "    <tr>\n",
              "      <th>3</th>\n",
              "      <td>5689</td>\n",
              "      <td>100000013</td>\n",
              "      <td>NaN</td>\n",
              "      <td>3</td>\n",
              "      <td>2008-05-05 12:00:00</td>\n",
              "      <td>2008-05-05 13:00:00</td>\n",
              "      <td>C</td>\n",
              "    </tr>\n",
              "    <tr>\n",
              "      <th>4</th>\n",
              "      <td>44321</td>\n",
              "      <td>100000010</td>\n",
              "      <td>102.0</td>\n",
              "      <td>1</td>\n",
              "      <td>2008-06-16 10:00:00</td>\n",
              "      <td>2008-06-16 11:00:00</td>\n",
              "      <td>B</td>\n",
              "    </tr>\n",
              "  </tbody>\n",
              "</table>\n",
              "</div>\n",
              "      <button class=\"colab-df-convert\" onclick=\"convertToInteractive('df-33fc4b4c-43f5-4651-958a-18a8f5ed69a4')\"\n",
              "              title=\"Convert this dataframe to an interactive table.\"\n",
              "              style=\"display:none;\">\n",
              "        \n",
              "  <svg xmlns=\"http://www.w3.org/2000/svg\" height=\"24px\"viewBox=\"0 0 24 24\"\n",
              "       width=\"24px\">\n",
              "    <path d=\"M0 0h24v24H0V0z\" fill=\"none\"/>\n",
              "    <path d=\"M18.56 5.44l.94 2.06.94-2.06 2.06-.94-2.06-.94-.94-2.06-.94 2.06-2.06.94zm-11 1L8.5 8.5l.94-2.06 2.06-.94-2.06-.94L8.5 2.5l-.94 2.06-2.06.94zm10 10l.94 2.06.94-2.06 2.06-.94-2.06-.94-.94-2.06-.94 2.06-2.06.94z\"/><path d=\"M17.41 7.96l-1.37-1.37c-.4-.4-.92-.59-1.43-.59-.52 0-1.04.2-1.43.59L10.3 9.45l-7.72 7.72c-.78.78-.78 2.05 0 2.83L4 21.41c.39.39.9.59 1.41.59.51 0 1.02-.2 1.41-.59l7.78-7.78 2.81-2.81c.8-.78.8-2.07 0-2.86zM5.41 20L4 18.59l7.72-7.72 1.47 1.35L5.41 20z\"/>\n",
              "  </svg>\n",
              "      </button>\n",
              "      \n",
              "  <style>\n",
              "    .colab-df-container {\n",
              "      display:flex;\n",
              "      flex-wrap:wrap;\n",
              "      gap: 12px;\n",
              "    }\n",
              "\n",
              "    .colab-df-convert {\n",
              "      background-color: #E8F0FE;\n",
              "      border: none;\n",
              "      border-radius: 50%;\n",
              "      cursor: pointer;\n",
              "      display: none;\n",
              "      fill: #1967D2;\n",
              "      height: 32px;\n",
              "      padding: 0 0 0 0;\n",
              "      width: 32px;\n",
              "    }\n",
              "\n",
              "    .colab-df-convert:hover {\n",
              "      background-color: #E2EBFA;\n",
              "      box-shadow: 0px 1px 2px rgba(60, 64, 67, 0.3), 0px 1px 3px 1px rgba(60, 64, 67, 0.15);\n",
              "      fill: #174EA6;\n",
              "    }\n",
              "\n",
              "    [theme=dark] .colab-df-convert {\n",
              "      background-color: #3B4455;\n",
              "      fill: #D2E3FC;\n",
              "    }\n",
              "\n",
              "    [theme=dark] .colab-df-convert:hover {\n",
              "      background-color: #434B5C;\n",
              "      box-shadow: 0px 1px 3px 1px rgba(0, 0, 0, 0.15);\n",
              "      filter: drop-shadow(0px 1px 2px rgba(0, 0, 0, 0.3));\n",
              "      fill: #FFFFFF;\n",
              "    }\n",
              "  </style>\n",
              "\n",
              "      <script>\n",
              "        const buttonEl =\n",
              "          document.querySelector('#df-33fc4b4c-43f5-4651-958a-18a8f5ed69a4 button.colab-df-convert');\n",
              "        buttonEl.style.display =\n",
              "          google.colab.kernel.accessAllowed ? 'block' : 'none';\n",
              "\n",
              "        async function convertToInteractive(key) {\n",
              "          const element = document.querySelector('#df-33fc4b4c-43f5-4651-958a-18a8f5ed69a4');\n",
              "          const dataTable =\n",
              "            await google.colab.kernel.invokeFunction('convertToInteractive',\n",
              "                                                     [key], {});\n",
              "          if (!dataTable) return;\n",
              "\n",
              "          const docLinkHtml = 'Like what you see? Visit the ' +\n",
              "            '<a target=\"_blank\" href=https://colab.research.google.com/notebooks/data_table.ipynb>data table notebook</a>'\n",
              "            + ' to learn more about interactive tables.';\n",
              "          element.innerHTML = '';\n",
              "          dataTable['output_type'] = 'display_data';\n",
              "          await google.colab.output.renderOutput(dataTable, element);\n",
              "          const docLink = document.createElement('div');\n",
              "          docLink.innerHTML = docLinkHtml;\n",
              "          element.appendChild(docLink);\n",
              "        }\n",
              "      </script>\n",
              "    </div>\n",
              "  </div>\n",
              "  "
            ]
          },
          "metadata": {},
          "execution_count": 3
        }
      ]
    },
    {
      "cell_type": "code",
      "source": [
        "# Confirmamos a quantidade de datos nulos em nossa tabela com o seguinte código:\n",
        "\n",
        "Appoint.isnull().sum()"
      ],
      "metadata": {
        "id": "MaYpuCGGCt3P",
        "colab": {
          "base_uri": "https://localhost:8080/"
        },
        "outputId": "4be59209-74f6-4857-b9ea-ce062b0c0054"
      },
      "execution_count": null,
      "outputs": [
        {
          "output_type": "execute_result",
          "data": {
            "text/plain": [
              "AppointmentID       0\n",
              "Patient             0\n",
              "PrepNurse          19\n",
              "Physician           0\n",
              "Starto              0\n",
              "Endo                0\n",
              "ExaminationRoom     0\n",
              "dtype: int64"
            ]
          },
          "metadata": {},
          "execution_count": 156
        }
      ]
    },
    {
      "cell_type": "code",
      "source": [
        "##Substituir os valores nulos por enfermeira de apoio '107'\n",
        "\n",
        "Appoint.fillna('107', inplace= True)\n",
        "Appoint.info()  "
      ],
      "metadata": {
        "id": "cA3v1IUqHlgH"
      },
      "execution_count": null,
      "outputs": []
    },
    {
      "cell_type": "code",
      "source": [
        "## Modificar o tipo de dato na Coluna PrepNurse\n",
        "Appoint['PrepNurse']= Appoint['PrepNurse'].astype(np.int)"
      ],
      "metadata": {
        "id": "YjNRAh1wg2y2"
      },
      "execution_count": null,
      "outputs": []
    },
    {
      "cell_type": "markdown",
      "source": [
        "Vamos mudar o tipo de dado e o formato das colunas de datas"
      ],
      "metadata": {
        "id": "I_FZwI0vZFj3"
      }
    },
    {
      "cell_type": "code",
      "source": [
        "## Transformando a coluna Starto em tipo Datetime\n",
        "AppointData= Appoint['Starto'].astype(np.datetime64)"
      ],
      "metadata": {
        "id": "GoGrtxwPX7v4"
      },
      "execution_count": null,
      "outputs": []
    },
    {
      "cell_type": "code",
      "source": [
        "## Agora que já modificamos o tipo, vamos a modificar o formato e o ano para 2021\n",
        "## Usando a função da.strftime e digitamos a o formato que queremos\n",
        "Appoint['Starto'] = AppointData.dt.strftime('%d/%m/2021 %H:%M')"
      ],
      "metadata": {
        "id": "leDoMga1yt9g"
      },
      "execution_count": null,
      "outputs": []
    },
    {
      "cell_type": "code",
      "source": [
        ""
      ],
      "metadata": {
        "id": "_a6HEBpAbwNQ"
      },
      "execution_count": null,
      "outputs": []
    },
    {
      "cell_type": "code",
      "source": [
        "Appoint"
      ],
      "metadata": {
        "colab": {
          "base_uri": "https://localhost:8080/",
          "height": 424
        },
        "id": "3syCCUombhst",
        "outputId": "5ad7a331-ccd5-45f6-9c4e-2f930fa7aaac"
      },
      "execution_count": null,
      "outputs": [
        {
          "output_type": "execute_result",
          "data": {
            "text/plain": [
              "     AppointmentID    Patient  PrepNurse  Physician            Starto  \\\n",
              "0             1313  100000034        103          2  05/06/2021 09:00   \n",
              "1             2517  100000013        107          3  05/06/2021 12:00   \n",
              "2             3241  100000013        107          3  05/04/2021 12:00   \n",
              "3             5689  100000013        107          3  05/05/2021 12:00   \n",
              "4            44321  100000010        102          1  16/06/2021 10:00   \n",
              "..             ...        ...        ...        ...               ...   \n",
              "131       93662589  100000015        101          1  27/05/2021 10:00   \n",
              "132       96622589  100000003        101          2  02/06/2021 13:00   \n",
              "133       98388999  100000034        103          2  05/04/2021 16:00   \n",
              "134       99922222  100000051        102          7  22/06/2021 08:00   \n",
              "135       99999992  100000015        102          1  19/06/2021 21:00   \n",
              "\n",
              "                 Endo ExaminationRoom  \n",
              "0    05/06/2021 10:00               C  \n",
              "1    05/06/2021 13:00               C  \n",
              "2    05/04/2021 13:00               C  \n",
              "3    05/05/2021 13:00               C  \n",
              "4    16/06/2021 11:00               B  \n",
              "..                ...             ...  \n",
              "131  27/05/2021 11:00               B  \n",
              "132  02/06/2021 14:00               B  \n",
              "133  05/04/2021 17:00               A  \n",
              "134  22/06/2021 09:00               A  \n",
              "135  19/06/2021 22:00               C  \n",
              "\n",
              "[136 rows x 7 columns]"
            ],
            "text/html": [
              "\n",
              "  <div id=\"df-cf393266-c9ca-476c-95ee-5b9704447cd6\">\n",
              "    <div class=\"colab-df-container\">\n",
              "      <div>\n",
              "<style scoped>\n",
              "    .dataframe tbody tr th:only-of-type {\n",
              "        vertical-align: middle;\n",
              "    }\n",
              "\n",
              "    .dataframe tbody tr th {\n",
              "        vertical-align: top;\n",
              "    }\n",
              "\n",
              "    .dataframe thead th {\n",
              "        text-align: right;\n",
              "    }\n",
              "</style>\n",
              "<table border=\"1\" class=\"dataframe\">\n",
              "  <thead>\n",
              "    <tr style=\"text-align: right;\">\n",
              "      <th></th>\n",
              "      <th>AppointmentID</th>\n",
              "      <th>Patient</th>\n",
              "      <th>PrepNurse</th>\n",
              "      <th>Physician</th>\n",
              "      <th>Starto</th>\n",
              "      <th>Endo</th>\n",
              "      <th>ExaminationRoom</th>\n",
              "    </tr>\n",
              "  </thead>\n",
              "  <tbody>\n",
              "    <tr>\n",
              "      <th>0</th>\n",
              "      <td>1313</td>\n",
              "      <td>100000034</td>\n",
              "      <td>103</td>\n",
              "      <td>2</td>\n",
              "      <td>05/06/2021 09:00</td>\n",
              "      <td>05/06/2021 10:00</td>\n",
              "      <td>C</td>\n",
              "    </tr>\n",
              "    <tr>\n",
              "      <th>1</th>\n",
              "      <td>2517</td>\n",
              "      <td>100000013</td>\n",
              "      <td>107</td>\n",
              "      <td>3</td>\n",
              "      <td>05/06/2021 12:00</td>\n",
              "      <td>05/06/2021 13:00</td>\n",
              "      <td>C</td>\n",
              "    </tr>\n",
              "    <tr>\n",
              "      <th>2</th>\n",
              "      <td>3241</td>\n",
              "      <td>100000013</td>\n",
              "      <td>107</td>\n",
              "      <td>3</td>\n",
              "      <td>05/04/2021 12:00</td>\n",
              "      <td>05/04/2021 13:00</td>\n",
              "      <td>C</td>\n",
              "    </tr>\n",
              "    <tr>\n",
              "      <th>3</th>\n",
              "      <td>5689</td>\n",
              "      <td>100000013</td>\n",
              "      <td>107</td>\n",
              "      <td>3</td>\n",
              "      <td>05/05/2021 12:00</td>\n",
              "      <td>05/05/2021 13:00</td>\n",
              "      <td>C</td>\n",
              "    </tr>\n",
              "    <tr>\n",
              "      <th>4</th>\n",
              "      <td>44321</td>\n",
              "      <td>100000010</td>\n",
              "      <td>102</td>\n",
              "      <td>1</td>\n",
              "      <td>16/06/2021 10:00</td>\n",
              "      <td>16/06/2021 11:00</td>\n",
              "      <td>B</td>\n",
              "    </tr>\n",
              "    <tr>\n",
              "      <th>...</th>\n",
              "      <td>...</td>\n",
              "      <td>...</td>\n",
              "      <td>...</td>\n",
              "      <td>...</td>\n",
              "      <td>...</td>\n",
              "      <td>...</td>\n",
              "      <td>...</td>\n",
              "    </tr>\n",
              "    <tr>\n",
              "      <th>131</th>\n",
              "      <td>93662589</td>\n",
              "      <td>100000015</td>\n",
              "      <td>101</td>\n",
              "      <td>1</td>\n",
              "      <td>27/05/2021 10:00</td>\n",
              "      <td>27/05/2021 11:00</td>\n",
              "      <td>B</td>\n",
              "    </tr>\n",
              "    <tr>\n",
              "      <th>132</th>\n",
              "      <td>96622589</td>\n",
              "      <td>100000003</td>\n",
              "      <td>101</td>\n",
              "      <td>2</td>\n",
              "      <td>02/06/2021 13:00</td>\n",
              "      <td>02/06/2021 14:00</td>\n",
              "      <td>B</td>\n",
              "    </tr>\n",
              "    <tr>\n",
              "      <th>133</th>\n",
              "      <td>98388999</td>\n",
              "      <td>100000034</td>\n",
              "      <td>103</td>\n",
              "      <td>2</td>\n",
              "      <td>05/04/2021 16:00</td>\n",
              "      <td>05/04/2021 17:00</td>\n",
              "      <td>A</td>\n",
              "    </tr>\n",
              "    <tr>\n",
              "      <th>134</th>\n",
              "      <td>99922222</td>\n",
              "      <td>100000051</td>\n",
              "      <td>102</td>\n",
              "      <td>7</td>\n",
              "      <td>22/06/2021 08:00</td>\n",
              "      <td>22/06/2021 09:00</td>\n",
              "      <td>A</td>\n",
              "    </tr>\n",
              "    <tr>\n",
              "      <th>135</th>\n",
              "      <td>99999992</td>\n",
              "      <td>100000015</td>\n",
              "      <td>102</td>\n",
              "      <td>1</td>\n",
              "      <td>19/06/2021 21:00</td>\n",
              "      <td>19/06/2021 22:00</td>\n",
              "      <td>C</td>\n",
              "    </tr>\n",
              "  </tbody>\n",
              "</table>\n",
              "<p>136 rows × 7 columns</p>\n",
              "</div>\n",
              "      <button class=\"colab-df-convert\" onclick=\"convertToInteractive('df-cf393266-c9ca-476c-95ee-5b9704447cd6')\"\n",
              "              title=\"Convert this dataframe to an interactive table.\"\n",
              "              style=\"display:none;\">\n",
              "        \n",
              "  <svg xmlns=\"http://www.w3.org/2000/svg\" height=\"24px\"viewBox=\"0 0 24 24\"\n",
              "       width=\"24px\">\n",
              "    <path d=\"M0 0h24v24H0V0z\" fill=\"none\"/>\n",
              "    <path d=\"M18.56 5.44l.94 2.06.94-2.06 2.06-.94-2.06-.94-.94-2.06-.94 2.06-2.06.94zm-11 1L8.5 8.5l.94-2.06 2.06-.94-2.06-.94L8.5 2.5l-.94 2.06-2.06.94zm10 10l.94 2.06.94-2.06 2.06-.94-2.06-.94-.94-2.06-.94 2.06-2.06.94z\"/><path d=\"M17.41 7.96l-1.37-1.37c-.4-.4-.92-.59-1.43-.59-.52 0-1.04.2-1.43.59L10.3 9.45l-7.72 7.72c-.78.78-.78 2.05 0 2.83L4 21.41c.39.39.9.59 1.41.59.51 0 1.02-.2 1.41-.59l7.78-7.78 2.81-2.81c.8-.78.8-2.07 0-2.86zM5.41 20L4 18.59l7.72-7.72 1.47 1.35L5.41 20z\"/>\n",
              "  </svg>\n",
              "      </button>\n",
              "      \n",
              "  <style>\n",
              "    .colab-df-container {\n",
              "      display:flex;\n",
              "      flex-wrap:wrap;\n",
              "      gap: 12px;\n",
              "    }\n",
              "\n",
              "    .colab-df-convert {\n",
              "      background-color: #E8F0FE;\n",
              "      border: none;\n",
              "      border-radius: 50%;\n",
              "      cursor: pointer;\n",
              "      display: none;\n",
              "      fill: #1967D2;\n",
              "      height: 32px;\n",
              "      padding: 0 0 0 0;\n",
              "      width: 32px;\n",
              "    }\n",
              "\n",
              "    .colab-df-convert:hover {\n",
              "      background-color: #E2EBFA;\n",
              "      box-shadow: 0px 1px 2px rgba(60, 64, 67, 0.3), 0px 1px 3px 1px rgba(60, 64, 67, 0.15);\n",
              "      fill: #174EA6;\n",
              "    }\n",
              "\n",
              "    [theme=dark] .colab-df-convert {\n",
              "      background-color: #3B4455;\n",
              "      fill: #D2E3FC;\n",
              "    }\n",
              "\n",
              "    [theme=dark] .colab-df-convert:hover {\n",
              "      background-color: #434B5C;\n",
              "      box-shadow: 0px 1px 3px 1px rgba(0, 0, 0, 0.15);\n",
              "      filter: drop-shadow(0px 1px 2px rgba(0, 0, 0, 0.3));\n",
              "      fill: #FFFFFF;\n",
              "    }\n",
              "  </style>\n",
              "\n",
              "      <script>\n",
              "        const buttonEl =\n",
              "          document.querySelector('#df-cf393266-c9ca-476c-95ee-5b9704447cd6 button.colab-df-convert');\n",
              "        buttonEl.style.display =\n",
              "          google.colab.kernel.accessAllowed ? 'block' : 'none';\n",
              "\n",
              "        async function convertToInteractive(key) {\n",
              "          const element = document.querySelector('#df-cf393266-c9ca-476c-95ee-5b9704447cd6');\n",
              "          const dataTable =\n",
              "            await google.colab.kernel.invokeFunction('convertToInteractive',\n",
              "                                                     [key], {});\n",
              "          if (!dataTable) return;\n",
              "\n",
              "          const docLinkHtml = 'Like what you see? Visit the ' +\n",
              "            '<a target=\"_blank\" href=https://colab.research.google.com/notebooks/data_table.ipynb>data table notebook</a>'\n",
              "            + ' to learn more about interactive tables.';\n",
              "          element.innerHTML = '';\n",
              "          dataTable['output_type'] = 'display_data';\n",
              "          await google.colab.output.renderOutput(dataTable, element);\n",
              "          const docLink = document.createElement('div');\n",
              "          docLink.innerHTML = docLinkHtml;\n",
              "          element.appendChild(docLink);\n",
              "        }\n",
              "      </script>\n",
              "    </div>\n",
              "  </div>\n",
              "  "
            ]
          },
          "metadata": {},
          "execution_count": 209
        }
      ]
    },
    {
      "cell_type": "code",
      "source": [
        "AppointData2= Appoint['Endo'].astype(np.datetime64)"
      ],
      "metadata": {
        "id": "12pysll8PQ99"
      },
      "execution_count": null,
      "outputs": []
    },
    {
      "cell_type": "code",
      "source": [
        "Appoint['Endo']= AppointData2.dt.strftime('%d/%m/2021 %H:%M')\n"
      ],
      "metadata": {
        "id": "H6jVn-0sPVSx"
      },
      "execution_count": null,
      "outputs": []
    },
    {
      "cell_type": "code",
      "source": [
        "Appoint['Endo'] = Appoint['Endo'].astype(np.datetime64)"
      ],
      "metadata": {
        "id": "MEewtQ7-WwJu"
      },
      "execution_count": null,
      "outputs": []
    },
    {
      "cell_type": "code",
      "source": [
        "Appoint.info()"
      ],
      "metadata": {
        "id": "fU-1iL9aSOMd",
        "colab": {
          "base_uri": "https://localhost:8080/"
        },
        "outputId": "210f0447-d2ab-4d02-e744-9628eb263dbc"
      },
      "execution_count": null,
      "outputs": [
        {
          "output_type": "stream",
          "name": "stdout",
          "text": [
            "<class 'pandas.core.frame.DataFrame'>\n",
            "RangeIndex: 136 entries, 0 to 135\n",
            "Data columns (total 7 columns):\n",
            " #   Column           Non-Null Count  Dtype \n",
            "---  ------           --------------  ----- \n",
            " 0   AppointmentID    136 non-null    int64 \n",
            " 1   Patient          136 non-null    int64 \n",
            " 2   PrepNurse        136 non-null    int64 \n",
            " 3   Physician        136 non-null    int64 \n",
            " 4   Starto           136 non-null    object\n",
            " 5   Endo             136 non-null    object\n",
            " 6   ExaminationRoom  136 non-null    object\n",
            "dtypes: int64(4), object(3)\n",
            "memory usage: 7.6+ KB\n"
          ]
        }
      ]
    },
    {
      "cell_type": "code",
      "source": [
        "# Agora vou exportar minha tabela tratada\n",
        "Appoint.to_csv('Appoint_BI.csv')"
      ],
      "metadata": {
        "id": "TsDsNEEqkpPb"
      },
      "execution_count": null,
      "outputs": []
    },
    {
      "cell_type": "markdown",
      "source": [
        "***Modificação da consulta Departamentos***"
      ],
      "metadata": {
        "id": "zMdRZhqSUkne"
      }
    },
    {
      "cell_type": "code",
      "source": [
        "Consulta= pd.read_csv('/content/Consulta_departamentos_python.csv', encoding='latin-1')\n"
      ],
      "metadata": {
        "id": "kZx0oTe_USUL"
      },
      "execution_count": null,
      "outputs": []
    },
    {
      "cell_type": "code",
      "source": [
        "Consulta.info()"
      ],
      "metadata": {
        "colab": {
          "base_uri": "https://localhost:8080/"
        },
        "id": "wAqq8lVzVYSg",
        "outputId": "b84b1a4f-3503-4e90-91ad-b0ed354c09d3"
      },
      "execution_count": null,
      "outputs": [
        {
          "output_type": "stream",
          "name": "stdout",
          "text": [
            "<class 'pandas.core.frame.DataFrame'>\n",
            "RangeIndex: 136 entries, 0 to 135\n",
            "Data columns (total 8 columns):\n",
            " #   Column              Non-Null Count  Dtype  \n",
            "---  ------              --------------  -----  \n",
            " 0   Serviço             136 non-null    object \n",
            " 1   Código do Médico    136 non-null    int64  \n",
            " 2   Médico              136 non-null    object \n",
            " 3   Código da Consulta  136 non-null    int64  \n",
            " 4   Código do paciente  136 non-null    int64  \n",
            " 5    Enfermeira         117 non-null    float64\n",
            " 6   Sala de Avaliação   136 non-null    object \n",
            " 7   Data                136 non-null    object \n",
            "dtypes: float64(1), int64(3), object(4)\n",
            "memory usage: 8.6+ KB\n"
          ]
        }
      ]
    },
    {
      "cell_type": "code",
      "source": [
        "Consulta.head(6)"
      ],
      "metadata": {
        "colab": {
          "base_uri": "https://localhost:8080/",
          "height": 403
        },
        "id": "4ArQdMgoWFc5",
        "outputId": "331e752f-5801-4fa4-def5-0f652228802e"
      },
      "execution_count": null,
      "outputs": [
        {
          "output_type": "execute_result",
          "data": {
            "text/plain": [
              "            Serviço  Código do Médico            Médico  Código da Consulta  \\\n",
              "0  General Medicine                 2       Elliot Reid                1313   \n",
              "1           Surgery                 3  Christopher Turk                2517   \n",
              "2           Surgery                 3  Christopher Turk                3241   \n",
              "3           Surgery                 3  Christopher Turk                5689   \n",
              "4  General Medicine                 1       John Dorian               44321   \n",
              "5           Surgery                 3  Christopher Turk               68945   \n",
              "\n",
              "   Código do paciente   Enfermeira Sala de Avaliação        Data  \n",
              "0           100000034          103                 C  05/06/2021  \n",
              "1           100000013          107                 C  05/06/2021  \n",
              "2           100000013          107                 C  05/04/2021  \n",
              "3           100000013          107                 C  05/05/2021  \n",
              "4           100000010          102                 B  16/06/2021  \n",
              "5           100000033          101                 A  15/06/2021  "
            ],
            "text/html": [
              "\n",
              "  <div id=\"df-7a2aa474-a397-4bd4-b95a-e0507eeb3dbd\">\n",
              "    <div class=\"colab-df-container\">\n",
              "      <div>\n",
              "<style scoped>\n",
              "    .dataframe tbody tr th:only-of-type {\n",
              "        vertical-align: middle;\n",
              "    }\n",
              "\n",
              "    .dataframe tbody tr th {\n",
              "        vertical-align: top;\n",
              "    }\n",
              "\n",
              "    .dataframe thead th {\n",
              "        text-align: right;\n",
              "    }\n",
              "</style>\n",
              "<table border=\"1\" class=\"dataframe\">\n",
              "  <thead>\n",
              "    <tr style=\"text-align: right;\">\n",
              "      <th></th>\n",
              "      <th>Serviço</th>\n",
              "      <th>Código do Médico</th>\n",
              "      <th>Médico</th>\n",
              "      <th>Código da Consulta</th>\n",
              "      <th>Código do paciente</th>\n",
              "      <th>Enfermeira</th>\n",
              "      <th>Sala de Avaliação</th>\n",
              "      <th>Data</th>\n",
              "    </tr>\n",
              "  </thead>\n",
              "  <tbody>\n",
              "    <tr>\n",
              "      <th>0</th>\n",
              "      <td>General Medicine</td>\n",
              "      <td>2</td>\n",
              "      <td>Elliot Reid</td>\n",
              "      <td>1313</td>\n",
              "      <td>100000034</td>\n",
              "      <td>103</td>\n",
              "      <td>C</td>\n",
              "      <td>05/06/2021</td>\n",
              "    </tr>\n",
              "    <tr>\n",
              "      <th>1</th>\n",
              "      <td>Surgery</td>\n",
              "      <td>3</td>\n",
              "      <td>Christopher Turk</td>\n",
              "      <td>2517</td>\n",
              "      <td>100000013</td>\n",
              "      <td>107</td>\n",
              "      <td>C</td>\n",
              "      <td>05/06/2021</td>\n",
              "    </tr>\n",
              "    <tr>\n",
              "      <th>2</th>\n",
              "      <td>Surgery</td>\n",
              "      <td>3</td>\n",
              "      <td>Christopher Turk</td>\n",
              "      <td>3241</td>\n",
              "      <td>100000013</td>\n",
              "      <td>107</td>\n",
              "      <td>C</td>\n",
              "      <td>05/04/2021</td>\n",
              "    </tr>\n",
              "    <tr>\n",
              "      <th>3</th>\n",
              "      <td>Surgery</td>\n",
              "      <td>3</td>\n",
              "      <td>Christopher Turk</td>\n",
              "      <td>5689</td>\n",
              "      <td>100000013</td>\n",
              "      <td>107</td>\n",
              "      <td>C</td>\n",
              "      <td>05/05/2021</td>\n",
              "    </tr>\n",
              "    <tr>\n",
              "      <th>4</th>\n",
              "      <td>General Medicine</td>\n",
              "      <td>1</td>\n",
              "      <td>John Dorian</td>\n",
              "      <td>44321</td>\n",
              "      <td>100000010</td>\n",
              "      <td>102</td>\n",
              "      <td>B</td>\n",
              "      <td>16/06/2021</td>\n",
              "    </tr>\n",
              "    <tr>\n",
              "      <th>5</th>\n",
              "      <td>Surgery</td>\n",
              "      <td>3</td>\n",
              "      <td>Christopher Turk</td>\n",
              "      <td>68945</td>\n",
              "      <td>100000033</td>\n",
              "      <td>101</td>\n",
              "      <td>A</td>\n",
              "      <td>15/06/2021</td>\n",
              "    </tr>\n",
              "  </tbody>\n",
              "</table>\n",
              "</div>\n",
              "      <button class=\"colab-df-convert\" onclick=\"convertToInteractive('df-7a2aa474-a397-4bd4-b95a-e0507eeb3dbd')\"\n",
              "              title=\"Convert this dataframe to an interactive table.\"\n",
              "              style=\"display:none;\">\n",
              "        \n",
              "  <svg xmlns=\"http://www.w3.org/2000/svg\" height=\"24px\"viewBox=\"0 0 24 24\"\n",
              "       width=\"24px\">\n",
              "    <path d=\"M0 0h24v24H0V0z\" fill=\"none\"/>\n",
              "    <path d=\"M18.56 5.44l.94 2.06.94-2.06 2.06-.94-2.06-.94-.94-2.06-.94 2.06-2.06.94zm-11 1L8.5 8.5l.94-2.06 2.06-.94-2.06-.94L8.5 2.5l-.94 2.06-2.06.94zm10 10l.94 2.06.94-2.06 2.06-.94-2.06-.94-.94-2.06-.94 2.06-2.06.94z\"/><path d=\"M17.41 7.96l-1.37-1.37c-.4-.4-.92-.59-1.43-.59-.52 0-1.04.2-1.43.59L10.3 9.45l-7.72 7.72c-.78.78-.78 2.05 0 2.83L4 21.41c.39.39.9.59 1.41.59.51 0 1.02-.2 1.41-.59l7.78-7.78 2.81-2.81c.8-.78.8-2.07 0-2.86zM5.41 20L4 18.59l7.72-7.72 1.47 1.35L5.41 20z\"/>\n",
              "  </svg>\n",
              "      </button>\n",
              "      \n",
              "  <style>\n",
              "    .colab-df-container {\n",
              "      display:flex;\n",
              "      flex-wrap:wrap;\n",
              "      gap: 12px;\n",
              "    }\n",
              "\n",
              "    .colab-df-convert {\n",
              "      background-color: #E8F0FE;\n",
              "      border: none;\n",
              "      border-radius: 50%;\n",
              "      cursor: pointer;\n",
              "      display: none;\n",
              "      fill: #1967D2;\n",
              "      height: 32px;\n",
              "      padding: 0 0 0 0;\n",
              "      width: 32px;\n",
              "    }\n",
              "\n",
              "    .colab-df-convert:hover {\n",
              "      background-color: #E2EBFA;\n",
              "      box-shadow: 0px 1px 2px rgba(60, 64, 67, 0.3), 0px 1px 3px 1px rgba(60, 64, 67, 0.15);\n",
              "      fill: #174EA6;\n",
              "    }\n",
              "\n",
              "    [theme=dark] .colab-df-convert {\n",
              "      background-color: #3B4455;\n",
              "      fill: #D2E3FC;\n",
              "    }\n",
              "\n",
              "    [theme=dark] .colab-df-convert:hover {\n",
              "      background-color: #434B5C;\n",
              "      box-shadow: 0px 1px 3px 1px rgba(0, 0, 0, 0.15);\n",
              "      filter: drop-shadow(0px 1px 2px rgba(0, 0, 0, 0.3));\n",
              "      fill: #FFFFFF;\n",
              "    }\n",
              "  </style>\n",
              "\n",
              "      <script>\n",
              "        const buttonEl =\n",
              "          document.querySelector('#df-7a2aa474-a397-4bd4-b95a-e0507eeb3dbd button.colab-df-convert');\n",
              "        buttonEl.style.display =\n",
              "          google.colab.kernel.accessAllowed ? 'block' : 'none';\n",
              "\n",
              "        async function convertToInteractive(key) {\n",
              "          const element = document.querySelector('#df-7a2aa474-a397-4bd4-b95a-e0507eeb3dbd');\n",
              "          const dataTable =\n",
              "            await google.colab.kernel.invokeFunction('convertToInteractive',\n",
              "                                                     [key], {});\n",
              "          if (!dataTable) return;\n",
              "\n",
              "          const docLinkHtml = 'Like what you see? Visit the ' +\n",
              "            '<a target=\"_blank\" href=https://colab.research.google.com/notebooks/data_table.ipynb>data table notebook</a>'\n",
              "            + ' to learn more about interactive tables.';\n",
              "          element.innerHTML = '';\n",
              "          dataTable['output_type'] = 'display_data';\n",
              "          await google.colab.output.renderOutput(dataTable, element);\n",
              "          const docLink = document.createElement('div');\n",
              "          docLink.innerHTML = docLinkHtml;\n",
              "          element.appendChild(docLink);\n",
              "        }\n",
              "      </script>\n",
              "    </div>\n",
              "  </div>\n",
              "  "
            ]
          },
          "metadata": {},
          "execution_count": 225
        }
      ]
    },
    {
      "cell_type": "code",
      "source": [
        "##Substituir os valores nulos por enfermeira de apoio '107'\n",
        "\n",
        "Consulta.fillna('107', inplace= True)"
      ],
      "metadata": {
        "id": "NvM-Kllmh9o6"
      },
      "execution_count": null,
      "outputs": []
    },
    {
      "cell_type": "code",
      "source": [
        "Consulta.info()"
      ],
      "metadata": {
        "id": "lBGnr8-zj4uG"
      },
      "execution_count": null,
      "outputs": []
    },
    {
      "cell_type": "code",
      "source": [
        "## Modificar o tipo de dato na Coluna PrepNurse\n",
        "Consulta[' Enfermeira']= Consulta[' Enfermeira'].astype(np.int)"
      ],
      "metadata": {
        "colab": {
          "base_uri": "https://localhost:8080/"
        },
        "id": "K-LGiJ8Ci979",
        "outputId": "c0ee22d0-9e51-403f-fb90-837eba7a1df9"
      },
      "execution_count": null,
      "outputs": [
        {
          "output_type": "stream",
          "name": "stderr",
          "text": [
            "/usr/local/lib/python3.7/dist-packages/ipykernel_launcher.py:2: DeprecationWarning: `np.int` is a deprecated alias for the builtin `int`. To silence this warning, use `int` by itself. Doing this will not modify any behavior and is safe. When replacing `np.int`, you may wish to use e.g. `np.int64` or `np.int32` to specify the precision. If you wish to review your current use, check the release note link for additional information.\n",
            "Deprecated in NumPy 1.20; for more details and guidance: https://numpy.org/devdocs/release/1.20.0-notes.html#deprecations\n",
            "  \n"
          ]
        }
      ]
    },
    {
      "cell_type": "code",
      "source": [
        "ConsultaData= Consulta['Data'].astype(np.datetime64)"
      ],
      "metadata": {
        "id": "6IbnjLt3iaPN"
      },
      "execution_count": null,
      "outputs": []
    },
    {
      "cell_type": "code",
      "source": [
        "Consulta['Data']= ConsultaData.dt.strftime('%d/%m/2021')"
      ],
      "metadata": {
        "id": "LCSQf40piJ0_"
      },
      "execution_count": null,
      "outputs": []
    },
    {
      "cell_type": "code",
      "source": [
        "Consulta.to_csv('Consulta_BI.csv')"
      ],
      "metadata": {
        "id": "IkkYwRIXkH6B"
      },
      "execution_count": null,
      "outputs": []
    }
  ]
}
